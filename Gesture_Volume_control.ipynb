{
 "cells": [
  {
   "cell_type": "code",
   "execution_count": null,
   "id": "f98c43cc",
   "metadata": {},
   "outputs": [],
   "source": [
    "!pip install pycaw"
   ]
  },
  {
   "cell_type": "code",
   "execution_count": null,
   "id": "a1e046ad",
   "metadata": {},
   "outputs": [],
   "source": [
    "import mediapipe as mp\n",
    "import cv2\n",
    "import time\n",
    "import numpy as np\n",
    "import math\n",
    "from ctypes import cast, POINTER\n",
    "from comtypes import CLSCTX_ALL\n",
    "from pycaw.pycaw import AudioUtilities, IAudioEndpointVolume"
   ]
  },
  {
   "cell_type": "code",
   "execution_count": null,
   "id": "5887e91a",
   "metadata": {},
   "outputs": [],
   "source": [
    "wCam, hCam = 640,480"
   ]
  },
  {
   "cell_type": "code",
   "execution_count": null,
   "id": "95364b26",
   "metadata": {},
   "outputs": [],
   "source": [
    "class HandDetector():\n",
    "    def __init__(self,mode=False,maxHands = 2,modelC = 1, detectionCon=0.5, trackCon= 0.5):\n",
    "        self.mode = mode\n",
    "        self.maxHands = maxHands\n",
    "        self.modelC = modelC\n",
    "        self.detectionCon = detectionCon\n",
    "        self.trackCon = trackCon\n",
    "        \n",
    "        self.mpHands = mp.solutions.hands\n",
    "        self.hands = self.mpHands.Hands(self.mode,self.maxHands,self.modelC,self.detectionCon,self.trackCon)\n",
    "        self.mpDraw = mp.solutions.drawing_utils\n",
    "        \n",
    "    def find_hands(self,img,draw= True):\n",
    "        imgRGB = cv2.cvtColor(img, cv2.COLOR_BGR2RGB)\n",
    "        self.results =self.hands.process(imgRGB)\n",
    "        if self.results.multi_hand_landmarks:\n",
    "            for handLms in self.results.multi_hand_landmarks:\n",
    "                if draw:\n",
    "                    self.mpDraw.draw_landmarks(img, handLms, self.mpHands.HAND_CONNECTIONS)\n",
    "        return img\n",
    "    def find_position(self,img,handNo=0,draw= True):\n",
    "        landmarks_List=[]\n",
    "        if self.results.multi_hand_landmarks:\n",
    "            my_hand = self.results.multi_hand_landmarks[handNo]\n",
    "            for handLms in self.results.multi_hand_landmarks:\n",
    "                for id, lm in enumerate(my_hand.landmark):\n",
    "                    # print(id, lm)\n",
    "                    h, w, c = img.shape\n",
    "                    cx, cy = int(lm.x*w), int(lm.y*h)\n",
    "                    #print(id, cx, cy)#coordinates for eah landmark\n",
    "                    landmarks_List.append([id, cx, cy])\n",
    "                    if draw:\n",
    "                        cv2.circle(img, (cx, cy),5, (255,0,255), cv2.FILLED)\n",
    "        return landmarks_List              "
   ]
  },
  {
   "cell_type": "code",
   "execution_count": null,
   "id": "9f2c8d4d",
   "metadata": {},
   "outputs": [],
   "source": [
    "pTime = 0\n",
    "cTime = 0\n",
    "cap = cv2.VideoCapture(0)\n",
    "detector = HandDetector(detectionCon=0.7)\n",
    "\n",
    "devices = AudioUtilities.GetSpeakers()\n",
    "interface = devices.Activate(IAudioEndpointVolume._iid_,\n",
    "                            CLSCTX_ALL, None)\n",
    "volume = cast(interface, POINTER(IAudioEndpointVolume))\n",
    "#volume.GetMute()\n",
    "#volume.GetMasterVolumeLevel()\n",
    "volRange = volume.GetVolumeRange()#(-65.25, 0.0, 0.75) ---> the range from -65.25 to 0.0\n",
    "#print('Volumme:',volume.GetVolumeRange())\n",
    "volume.SetMasterVolumeLevel(-10.0, None)\n",
    "minVol = volRange[0]\n",
    "maxVol = volRange[1]\n",
    "vol=0\n",
    "#volBar = 0\n",
    "while True:\n",
    "    success, img=cap.read()\n",
    "    img = detector.find_hands(img)\n",
    "    landmarks_List = detector.find_position(img, draw=False)\n",
    "    if len(landmarks_List) !=0:\n",
    "        print(landmarks_List[4], landmarks_List[8])\n",
    "        \n",
    "        x1,y1 = landmarks_List[4][1], landmarks_List[4][2]#[x][y]\n",
    "        x2,y2 = landmarks_List[8][1], landmarks_List[8][2]#[x][y]\n",
    "        cx,cy = (x1+x2)//2 , (y1 + y2)//2\n",
    "        \n",
    "        cv2.circle(img, (x1,y1),10,(255,0,255),cv2.FILLED)\n",
    "        cv2.circle(img, (x2,y2),10,(255,0,255),cv2.FILLED)\n",
    "        cv2.line(img, (x1,y1), (x2,y2), (255,0,255),3)\n",
    "        cv2.circle(img, (cx,cy),10,(255,0,255),cv2.FILLED)\n",
    "        \n",
    "        length = math.hypot(x2-x1 , y2-y1)\n",
    "        #print(length)\n",
    "        \n",
    "        \n",
    "        #Hand range 50 - 300\n",
    "        #Volume Range -65 - 0\n",
    "        vol = np.interp(length,[50,300],[minVol,maxVol])\n",
    "        #volBar  = np.interp(length,[50,300],[400,150])\n",
    "        print(int(length),vol)\n",
    "        volume.SetMasterVolumeLevel(vol, None)\n",
    "        \n",
    "        if length<50:\n",
    "            cv2.circle(img, (cx,cy),10,(0,255,0),cv2.FILLED)\n",
    "            \n",
    "    #cv2.rectangle(img, (50,150),(85,400),(0,255,0),3)\n",
    "    #cv2.rectangle(img, int(vol),(85,400),(0,255,0),cv2.FILLED) \n",
    "    \n",
    "    \n",
    "    cTime = time.time()\n",
    "    fps = 1/(cTime-pTime)\n",
    "    pTime = cTime\n",
    "    \n",
    "    cv2.putText(img, str(int(fps)),(10,70),cv2.FONT_HERSHEY_PLAIN,3,\n",
    "               (255,0,255),3)\n",
    "    cv2.imshow(\"image\",img)\n",
    "    cv2.waitKey(1)"
   ]
  },
  {
   "cell_type": "code",
   "execution_count": null,
   "id": "92c6b237",
   "metadata": {},
   "outputs": [],
   "source": []
  },
  {
   "cell_type": "code",
   "execution_count": null,
   "id": "682b15b5",
   "metadata": {},
   "outputs": [],
   "source": []
  },
  {
   "cell_type": "code",
   "execution_count": null,
   "id": "4b251334",
   "metadata": {},
   "outputs": [],
   "source": []
  }
 ],
 "metadata": {
  "kernelspec": {
   "display_name": "Python 3",
   "language": "python",
   "name": "python3"
  },
  "language_info": {
   "codemirror_mode": {
    "name": "ipython",
    "version": 3
   },
   "file_extension": ".py",
   "mimetype": "text/x-python",
   "name": "python",
   "nbconvert_exporter": "python",
   "pygments_lexer": "ipython3",
   "version": "3.8.8"
  }
 },
 "nbformat": 4,
 "nbformat_minor": 5
}
